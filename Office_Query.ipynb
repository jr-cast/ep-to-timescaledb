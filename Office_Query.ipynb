{
 "cells": [
  {
   "cell_type": "code",
   "execution_count": 13,
   "id": "39c70e49-ae8e-4d30-965c-b5216e04af9b",
   "metadata": {},
   "outputs": [],
   "source": [
    "import pandas as pd\n",
    "from rdflib import RDF, RDFS, OWL, Namespace, Graph\n",
    "import psycopg2\n",
    "%matplotlib inline"
   ]
  },
  {
   "cell_type": "code",
   "execution_count": 14,
   "id": "0ae6f33a-ac8f-4304-808e-ad2ad7500494",
   "metadata": {},
   "outputs": [],
   "source": [
    "g = Graph()"
   ]
  },
  {
   "cell_type": "code",
   "execution_count": 15,
   "id": "b5c577cd-d572-4925-9b48-ba6ad24d66e0",
   "metadata": {},
   "outputs": [
    {
     "data": {
      "text/plain": [
       "<Graph identifier=N7c502059abae471db0e4dc685e75508f (<class 'rdflib.graph.Graph'>)>"
      ]
     },
     "execution_count": 15,
     "metadata": {},
     "output_type": "execute_result"
    }
   ],
   "source": [
    "g.parse(\"bot_office.ttl\", format=\"ttl\")"
   ]
  },
  {
   "cell_type": "code",
   "execution_count": 18,
   "id": "241fb346-bb72-46e3-9c33-85890abdf17c",
   "metadata": {},
   "outputs": [
    {
     "name": "stdout",
     "output_type": "stream",
     "text": [
      "http://example.com/5ZoneOffice#ZONE_C http://example.com/5ZoneOffice#TS_Core\n",
      "http://example.com/5ZoneOffice#ZONE_E http://example.com/5ZoneOffice#TS_East\n",
      "http://example.com/5ZoneOffice#ZONE_N http://example.com/5ZoneOffice#TS_North\n",
      "http://example.com/5ZoneOffice#ZONE_S http://example.com/5ZoneOffice#TS_South\n",
      "http://example.com/5ZoneOffice#ZONE_W http://example.com/5ZoneOffice#TS_West\n"
     ]
    }
   ],
   "source": [
    "# Fetch Sensors in zones\n",
    "for zone, sensor in g.query(\"\"\"\n",
    "    SELECT ?zone ?sensor WHERE {\n",
    "        ?zone a bot:Zone .\n",
    "        ?zone bot:hasElement ?sensor .\n",
    "        ?sensor a bot:Element .\n",
    "    }\n",
    "\"\"\"):\n",
    "    print(zone, sensor)"
   ]
  },
  {
   "cell_type": "code",
   "execution_count": 23,
   "id": "ad0bc76c-7923-40c5-9b03-db520716a168",
   "metadata": {},
   "outputs": [
    {
     "name": "stdout",
     "output_type": "stream",
     "text": [
      "http://example.com/5ZoneOffice#ZONE_C http://example.com/5ZoneOffice#TS_Core coreZone\n",
      "http://example.com/5ZoneOffice#ZONE_E http://example.com/5ZoneOffice#TS_East eastZone\n",
      "http://example.com/5ZoneOffice#ZONE_N http://example.com/5ZoneOffice#TS_North northZone\n",
      "http://example.com/5ZoneOffice#ZONE_S http://example.com/5ZoneOffice#TS_South southZone\n",
      "http://example.com/5ZoneOffice#ZONE_W http://example.com/5ZoneOffice#TS_West westZone\n"
     ]
    }
   ],
   "source": [
    "# Fetch Sensors in zones with associated uuids\n",
    "for zone, sensor, tsid in g.query(\"\"\"\n",
    "    SELECT ?zone ?sensor ?tsid WHERE {\n",
    "        ?zone a bot:Zone .\n",
    "        ?zone bot:hasElement ?sensor .\n",
    "        ?sensor a bot:Element ;\n",
    "                bldg:timeseries/bldg:hasTimeseriesId ?tsid .\n",
    "    }\n",
    "\"\"\"):\n",
    "    print(zone, sensor, tsid)"
   ]
  },
  {
   "cell_type": "code",
   "execution_count": null,
   "id": "4abc1b4f-6d8c-4842-9319-706827a05684",
   "metadata": {},
   "outputs": [],
   "source": []
  }
 ],
 "metadata": {
  "kernelspec": {
   "display_name": "Python 3 (ipykernel)",
   "language": "python",
   "name": "python3"
  },
  "language_info": {
   "codemirror_mode": {
    "name": "ipython",
    "version": 3
   },
   "file_extension": ".py",
   "mimetype": "text/x-python",
   "name": "python",
   "nbconvert_exporter": "python",
   "pygments_lexer": "ipython3",
   "version": "3.9.6"
  }
 },
 "nbformat": 4,
 "nbformat_minor": 5
}
